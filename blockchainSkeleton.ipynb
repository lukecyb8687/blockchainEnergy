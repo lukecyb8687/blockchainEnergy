{
  "nbformat": 4,
  "nbformat_minor": 0,
  "metadata": {
    "colab": {
      "name": "blockchainSkeleton.ipynb",
      "provenance": []
    },
    "kernelspec": {
      "name": "python3",
      "display_name": "Python 3"
    }
  },
  "cells": [
    {
      "cell_type": "markdown",
      "metadata": {
        "id": "WNtYePQ-qNTH",
        "colab_type": "text"
      },
      "source": [
        "# Packages to be installed"
      ]
    },
    {
      "cell_type": "code",
      "metadata": {
        "id": "h6acw1ffpSpK",
        "colab_type": "code",
        "colab": {}
      },
      "source": [
        "!pip install -U Flask\n",
        "!pip install flask-ngrok\n"
      ],
      "execution_count": 0,
      "outputs": []
    },
    {
      "cell_type": "markdown",
      "metadata": {
        "id": "ImXmAYjcqSM2",
        "colab_type": "text"
      },
      "source": [
        "# Dependencies"
      ]
    },
    {
      "cell_type": "code",
      "metadata": {
        "id": "5SJH3s-IpTMq",
        "colab_type": "code",
        "colab": {}
      },
      "source": [
        "import hashlib\n",
        "import json\n",
        "from flask import Flask, request\n",
        "import requests\n",
        "import time\n",
        "from flask_ngrok import run_with_ngrok"
      ],
      "execution_count": 0,
      "outputs": []
    },
    {
      "cell_type": "markdown",
      "metadata": {
        "id": "TqTWWgtJqUTw",
        "colab_type": "text"
      },
      "source": [
        "# Create a single block"
      ]
    },
    {
      "cell_type": "code",
      "metadata": {
        "id": "ald-Mn8YpUPh",
        "colab_type": "code",
        "colab": {}
      },
      "source": [
        "class blockTransaction():\n",
        "  \n",
        "  def __init__(self,index,transaction,timestamp,previousHash):\n",
        "    self.index = index\n",
        "    self.transaction = transaction\n",
        "    self.timestamp = timestamp\n",
        "    self.previousHash = previousHash\n",
        "\n",
        "  def hashCompute(self):\n",
        "    blockJson = json.dumps(self.__dict__,sort_keys=True)\n",
        "    return hashlib.sha256(blockJson.encode()).hexdigest()\n",
        "\n",
        "\n"
      ],
      "execution_count": 0,
      "outputs": []
    },
    {
      "cell_type": "markdown",
      "metadata": {
        "id": "O7wWNn7VqZS1",
        "colab_type": "text"
      },
      "source": [
        "# Create the chain relationship with constraints"
      ]
    },
    {
      "cell_type": "code",
      "metadata": {
        "id": "8v7q9oohqYt1",
        "colab_type": "code",
        "colab": {}
      },
      "source": [
        "class blockChain():\n",
        "\n",
        "  difficulty = 1\n",
        "\n",
        "  def __init__(self): # Initialize with genesis block in chain, and a list of empty unconfirmed Tx\n",
        "    self.unconfirmedTransactions = []\n",
        "    self.chain = []\n",
        "    self.createGenesis()\n",
        "\n",
        "  def createGenesis(self):\n",
        "    genesis = blockTransaction(0,[],time.time(),'0')\n",
        "    genesis.hash = genesis.hashCompute() # Create a hash for the genesis block\n",
        "    self.chain.append(genesis)\n",
        "\n",
        "  def finalBlock(self): # Uncover details of the last block in chain\n",
        "    return self.chain[-1]\n",
        "\n",
        "  def proofOfWork(self,block):\n",
        "    # Brute force recursive computation for POW\n",
        "    block.nonce = 0\n",
        "    computedHash = block.hashCompute()\n",
        "    while not hashCompute.startswith('0'*blockChain.difficulty):\n",
        "      block.nonce += 1\n",
        "      computedHash = block.hashCompute()\n",
        "    return computedHash\n",
        "\n",
        "  def addBlock(self,block,proof): # Takes in the block and its hash\n",
        "    previousHash = self.finalBlock.hash # Previous hash is the hash of last block in chain\n",
        "    if previousHash != block.previousHash:\n",
        "      return False\n",
        "    if not blockChain.isValidProof(block,proof): # Ensure proof is valid in block (POW achieved)\n",
        "      return False\n",
        "    block.hash = proof # The hash of the newly confirmed block\n",
        "    self.chain.append(block) # Confirm addition of block to the chain\n",
        "    return True\n",
        "  \n",
        "  def isValidProof(self,block,block_hash):\n",
        "    return ( block_hash.startswith('0'* blockChain.difficulty) and block_hash == block.hashCompute() )\n",
        "\n",
        "  def newTransaction(self,transaction): # Add new Tx to the list of unconfirmed Tx\n",
        "    self.unconfirmedTransactions.append(transaction)\n",
        "\n",
        "  def mine(self):\n",
        "    if not self.unconfirmedTransactions: # Ensure that there exists unconfirmed transactions\n",
        "      return False\n",
        "    last_block = self.finalBlock\n",
        "    new_block = blockTransaction(index = last_block.index + 1,\n",
        "                                 transaction = self.unconfirmedTransactions,\n",
        "                                 timestamp = time.time(),\n",
        "                                 previousHash = last_block.hash)\n",
        "    proof = self.proofOfWork(new_block) # Recursive mining until POW is achieved, and hash of new block is generated\n",
        "    self.addBlock(new_block, proof) # Adds new block with its generated hash\n",
        "    self.unconfirmedTransactions = [] # Return empty list after confirming the transaction\n",
        "    return new_block.index\n",
        "  \n",
        "  def checkChain(cls,chain): # iterates through entire chain to do a double check\n",
        "    result = True\n",
        "    previous_hash = '0' # Begin with Genesis block\n",
        "    for block in chain:\n",
        "      block_hash = block.hash # Store a copy of attribute before deleting it\n",
        "      delattr(block,'hash') # Delete attribute\n",
        "      if not cls.isValidProof(block,block.hash) or previous_hash != block.previousHash:\n",
        "        result = False\n",
        "        break\n",
        "      block.hash = block_hash # After validating chain before, add backs attribute of the block\n",
        "      previous_hash = block_hash # Check next block\n",
        "      return result\n"
      ],
      "execution_count": 0,
      "outputs": []
    }
  ]
}